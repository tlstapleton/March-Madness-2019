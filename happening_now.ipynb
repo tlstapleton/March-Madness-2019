{
 "cells": [
  {
   "cell_type": "code",
   "execution_count": 77,
   "metadata": {},
   "outputs": [],
   "source": [
    "from bs4 import BeautifulSoup\n",
    "from splinter import Browser\n",
    "import requests\n",
    "import pymongo\n",
    "import pandas as pd\n",
    "import numpy as np\n",
    "import datetime"
   ]
  },
  {
   "cell_type": "code",
   "execution_count": 80,
   "metadata": {},
   "outputs": [],
   "source": [
    "now = datetime.datetime.now()"
   ]
  },
  {
   "cell_type": "code",
   "execution_count": 97,
   "metadata": {},
   "outputs": [],
   "source": [
    "espn_leader_table_header=f\"ESPN Bracket Challenge Leaderboard: {now.month}/{now.day}/{now.year} {now.hour}:{now.minute}\""
   ]
  },
  {
   "cell_type": "code",
   "execution_count": null,
   "metadata": {},
   "outputs": [],
   "source": []
  },
  {
   "cell_type": "code",
   "execution_count": 2,
   "metadata": {},
   "outputs": [],
   "source": [
    "executable_path = {'executable_path': 'chromedriver.exe'}\n",
    "browser = Browser('chrome', **executable_path, headless=False)"
   ]
  },
  {
   "cell_type": "code",
   "execution_count": 3,
   "metadata": {},
   "outputs": [],
   "source": [
    "url = \"http://fantasy.espn.com/tournament-challenge-bracket/2019/en/leaderboard\"\n",
    "browser.visit(url)\n"
   ]
  },
  {
   "cell_type": "code",
   "execution_count": 4,
   "metadata": {},
   "outputs": [],
   "source": [
    "html = browser.html\n",
    "bracket_soup = BeautifulSoup(html, 'html.parser')\n",
    "leaderboard = bracket_soup.find('div', class_='tableModule leaderboard overall')"
   ]
  },
  {
   "cell_type": "code",
   "execution_count": 5,
   "metadata": {},
   "outputs": [],
   "source": [
    "entries = leaderboard.find('tbody').findAll('tr')"
   ]
  },
  {
   "cell_type": "code",
   "execution_count": 6,
   "metadata": {},
   "outputs": [],
   "source": [
    "# len(entries)"
   ]
  },
  {
   "cell_type": "code",
   "execution_count": 7,
   "metadata": {},
   "outputs": [],
   "source": [
    "rank=[]\n",
    "leaders=[]\n",
    "chosen_winners=[]\n",
    "total_points=[]\n",
    "r64=[]\n",
    "r32=[]\n",
    "s16=[]\n",
    "e8=[]\n",
    "f4=[]\n",
    "ncg=[]\n",
    "for entry in entries[:10]:\n",
    "    rank.append(entry.find('td',class_='rank').text)\n",
    "    leaders.append(entry.find('span',class_='owner').text)\n",
    "    chosen_winners.append(entry.find('td',class_='champ').text)\n",
    "    total_points.append(entry.find('td',class_='total').text)\n",
    "    r64.append(entry.find('td',class_='period period_6 show').text)\n",
    "    r32.append(entry.find('td',class_='period period_7 show').text)\n",
    "    s16.append(entry.find('td',class_='period period_8 show').text)\n",
    "    e8.append(entry.find('td',class_='period period_9 show').text)\n",
    "    f4.append(entry.find('td',class_='period period_10 show').text)\n",
    "    ncg.append(entry.find('td',class_='period period_11 show').text)"
   ]
  },
  {
   "cell_type": "code",
   "execution_count": 8,
   "metadata": {},
   "outputs": [],
   "source": [
    "# chosen_winners"
   ]
  },
  {
   "cell_type": "code",
   "execution_count": 9,
   "metadata": {},
   "outputs": [],
   "source": [
    "d = {'Rank':rank,'Bracket Owner': leaders, \"R64\": r64, 'R32':r32, 'S16':s16, 'E8':e8, 'F4':f4, 'NCG':ncg,'Chosen Winner': chosen_winners,'Total Points':total_points}\n",
    "df = pd.DataFrame(data=d)"
   ]
  },
  {
   "cell_type": "code",
   "execution_count": 10,
   "metadata": {},
   "outputs": [],
   "source": [
    "# df"
   ]
  },
  {
   "cell_type": "code",
   "execution_count": 11,
   "metadata": {},
   "outputs": [],
   "source": [
    "espn_leader_html_table=df.to_html().replace('\\n', '')"
   ]
  },
  {
   "cell_type": "code",
   "execution_count": 12,
   "metadata": {},
   "outputs": [
    {
     "data": {
      "text/plain": [
       "'<table border=\"1\" class=\"dataframe\">  <thead>    <tr style=\"text-align: right;\">      <th></th>      <th>Rank</th>      <th>Bracket Owner</th>      <th>R64</th>      <th>R32</th>      <th>S16</th>      <th>E8</th>      <th>F4</th>      <th>NCG</th>      <th>Chosen Winner</th>      <th>Total Points</th>    </tr>  </thead>  <tbody>    <tr>      <th>0</th>      <td>1*</td>      <td>espn41710594</td>      <td>310</td>      <td>320</td>      <td>0</td>      <td>0</td>      <td>0</td>      <td>0</td>      <td>North Carolina</td>      <td>630</td>    </tr>    <tr>      <th>1</th>      <td>1*</td>      <td>Gjnigl78</td>      <td>310</td>      <td>320</td>      <td>0</td>      <td>0</td>      <td>0</td>      <td>0</td>      <td>Gonzaga</td>      <td>630</td>    </tr>    <tr>      <th>2</th>      <td>3*</td>      <td>Andrew33922</td>      <td>300</td>      <td>320</td>      <td>0</td>      <td>0</td>      <td>0</td>      <td>0</td>      <td>Duke</td>      <td>620</td>    </tr>    <tr>      <th>3</th>      <td>3*</td>      <td>espnfan55704933</td>      <td>300</td>      <td>320</td>      <td>0</td>      <td>0</td>      <td>0</td>      <td>0</td>      <td>Duke</td>      <td>620</td>    </tr>    <tr>      <th>4</th>      <td>3*</td>      <td>devsjets</td>      <td>300</td>      <td>320</td>      <td>0</td>      <td>0</td>      <td>0</td>      <td>0</td>      <td>North Carolina</td>      <td>620</td>    </tr>    <tr>      <th>5</th>      <td>3*</td>      <td>logcastrodale</td>      <td>300</td>      <td>320</td>      <td>0</td>      <td>0</td>      <td>0</td>      <td>0</td>      <td>North Carolina</td>      <td>620</td>    </tr>    <tr>      <th>6</th>      <td>3*</td>      <td>espn79096562</td>      <td>300</td>      <td>320</td>      <td>0</td>      <td>0</td>      <td>0</td>      <td>0</td>      <td>North Carolina</td>      <td>620</td>    </tr>    <tr>      <th>7</th>      <td>3*</td>      <td>Samuel4839</td>      <td>300</td>      <td>320</td>      <td>0</td>      <td>0</td>      <td>0</td>      <td>0</td>      <td>Gonzaga</td>      <td>620</td>    </tr>    <tr>      <th>8</th>      <td>3*</td>      <td>Swagtwotimes3</td>      <td>300</td>      <td>320</td>      <td>0</td>      <td>0</td>      <td>0</td>      <td>0</td>      <td>Kentucky</td>      <td>620</td>    </tr>    <tr>      <th>9</th>      <td>3*</td>      <td>Lil penny</td>      <td>300</td>      <td>320</td>      <td>0</td>      <td>0</td>      <td>0</td>      <td>0</td>      <td>Michigan State</td>      <td>620</td>    </tr>  </tbody></table>'"
      ]
     },
     "execution_count": 12,
     "metadata": {},
     "output_type": "execute_result"
    }
   ],
   "source": [
    "espn_leader_html_table"
   ]
  },
  {
   "cell_type": "code",
   "execution_count": 13,
   "metadata": {},
   "outputs": [],
   "source": [
    "browser.visit('http://www.vegasinsider.com/college-basketball/odds/futures/')"
   ]
  },
  {
   "cell_type": "code",
   "execution_count": 14,
   "metadata": {},
   "outputs": [],
   "source": [
    "html = browser.html\n",
    "odds_soup = BeautifulSoup(html, 'html.parser')\n"
   ]
  },
  {
   "cell_type": "code",
   "execution_count": 19,
   "metadata": {},
   "outputs": [
    {
     "data": {
      "text/plain": [
       "\"Odds to win 2019 NCAA Men's Tournament (4/8/19)\""
      ]
     },
     "execution_count": 19,
     "metadata": {},
     "output_type": "execute_result"
    }
   ],
   "source": [
    "betting_table_header = odds_soup.find('div', class_='viHeaderNorm').text\n",
    "betting_table_header"
   ]
  },
  {
   "cell_type": "code",
   "execution_count": 34,
   "metadata": {},
   "outputs": [],
   "source": [
    "betting_table=odds_soup.find('table', class_='table-wrapper cellTextNorm')"
   ]
  },
  {
   "cell_type": "code",
   "execution_count": 40,
   "metadata": {},
   "outputs": [],
   "source": [
    "tr=betting_table.findAll('tr')"
   ]
  },
  {
   "cell_type": "code",
   "execution_count": 73,
   "metadata": {},
   "outputs": [],
   "source": [
    "# tr[3].find('td', class_=\"font-bold\").text"
   ]
  },
  {
   "cell_type": "code",
   "execution_count": 74,
   "metadata": {},
   "outputs": [],
   "source": [
    "# tr[3].find('td', class_=\"last\").text"
   ]
  },
  {
   "cell_type": "code",
   "execution_count": 65,
   "metadata": {},
   "outputs": [],
   "source": [
    "teams=[]\n",
    "odds=[]\n",
    "for t in tr[1:]:\n",
    "    teams.append(t.find('td', class_=\"font-bold\").text)\n",
    "    odds.append(t.find('td', class_=\"last\").text)"
   ]
  },
  {
   "cell_type": "code",
   "execution_count": 66,
   "metadata": {},
   "outputs": [],
   "source": [
    "d={'Teams':teams,'Odds':odds}"
   ]
  },
  {
   "cell_type": "code",
   "execution_count": 68,
   "metadata": {},
   "outputs": [],
   "source": [
    "odds_df=pd.DataFrame(data=d)"
   ]
  },
  {
   "cell_type": "code",
   "execution_count": 70,
   "metadata": {},
   "outputs": [],
   "source": [
    "odds_df.set_index('Teams', inplace=True)"
   ]
  },
  {
   "cell_type": "code",
   "execution_count": 75,
   "metadata": {},
   "outputs": [],
   "source": [
    "betting_table=odds_df.to_html().replace('\\n', '')"
   ]
  },
  {
   "cell_type": "code",
   "execution_count": 76,
   "metadata": {},
   "outputs": [
    {
     "data": {
      "text/plain": [
       "'<table border=\"1\" class=\"dataframe\">  <thead>    <tr style=\"text-align: right;\">      <th></th>      <th>Odds</th>    </tr>    <tr>      <th>Teams</th>      <th></th>    </tr>  </thead>  <tbody>    <tr>      <th>Duke</th>      <td>11/4</td>    </tr>    <tr>      <th>Gonzaga</th>      <td>17/4</td>    </tr>    <tr>      <th>Virginia</th>      <td>9/2</td>    </tr>    <tr>      <th>North Carolina</th>      <td>7/1</td>    </tr>    <tr>      <th>Michigan State</th>      <td>10/1</td>    </tr>    <tr>      <th>Michigan</th>      <td>14/1</td>    </tr>    <tr>      <th>Kentucky</th>      <td>16/1</td>    </tr>    <tr>      <th>Purdue</th>      <td>18/1</td>    </tr>    <tr>      <th>Tennessee</th>      <td>20/1</td>    </tr>    <tr>      <th>Texas Tech</th>      <td>22/1</td>    </tr>    <tr>      <th>Auburn</th>      <td>25/1</td>    </tr>    <tr>      <th>Houston</th>      <td>30/1</td>    </tr>    <tr>      <th>Florida State</th>      <td>40/1</td>    </tr>    <tr>      <th>Virginia Tech</th>      <td>40/1</td>    </tr>    <tr>      <th>LSU</th>      <td>50/1</td>    </tr>    <tr>      <th>Oregon</th>      <td>50/1</td>    </tr>  </tbody></table>'"
      ]
     },
     "execution_count": 76,
     "metadata": {},
     "output_type": "execute_result"
    }
   ],
   "source": [
    "betting_table"
   ]
  },
  {
   "cell_type": "code",
   "execution_count": 22,
   "metadata": {},
   "outputs": [],
   "source": [
    "all_results_dictionary={}\n",
    "all_results_dictionary['espn_leader_html_table']=espn_leader_html_table\n",
    "all_results_dictionary['betting_table_header']=betting_table_header\n",
    "all_results_dictionary['betting_table']=betting_table\n"
   ]
  },
  {
   "cell_type": "code",
   "execution_count": 25,
   "metadata": {},
   "outputs": [
    {
     "data": {
      "text/plain": [
       "\"Odds to win 2019 NCAA Men's Tournament (4/8/19)\""
      ]
     },
     "execution_count": 25,
     "metadata": {},
     "output_type": "execute_result"
    }
   ],
   "source": []
  },
  {
   "cell_type": "code",
   "execution_count": null,
   "metadata": {},
   "outputs": [],
   "source": []
  },
  {
   "cell_type": "code",
   "execution_count": null,
   "metadata": {},
   "outputs": [],
   "source": []
  },
  {
   "cell_type": "code",
   "execution_count": null,
   "metadata": {},
   "outputs": [],
   "source": []
  }
 ],
 "metadata": {
  "kernelspec": {
   "display_name": "Python 3",
   "language": "python",
   "name": "python3"
  },
  "language_info": {
   "codemirror_mode": {
    "name": "ipython",
    "version": 3
   },
   "file_extension": ".py",
   "mimetype": "text/x-python",
   "name": "python",
   "nbconvert_exporter": "python",
   "pygments_lexer": "ipython3",
   "version": "3.7.0"
  }
 },
 "nbformat": 4,
 "nbformat_minor": 2
}
